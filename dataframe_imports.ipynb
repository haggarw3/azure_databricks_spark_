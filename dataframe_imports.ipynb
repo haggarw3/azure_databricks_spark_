{
 "cells": [
  {
   "cell_type": "code",
   "execution_count": 0,
   "metadata": {
    "application/vnd.databricks.v1+cell": {
     "cellMetadata": {
      "byteLimit": 2048000,
      "rowLimit": 10000
     },
     "inputWidgets": {},
     "nuid": "8244a72b-0851-44a1-85f8-bbc01ec6bf7e",
     "showTitle": false,
     "title": ""
    }
   },
   "outputs": [],
   "source": [
    "# import data from DBFS \n",
    "# NOTE , you have to upload the file using the DATA tab on the left side of the window\n",
    "# go to Add data button\n",
    "# click on upload file\n",
    "# Click on upload to DBFS \n",
    "# Choose and upload the file\n"
   ]
  },
  {
   "cell_type": "code",
   "execution_count": 0,
   "metadata": {
    "application/vnd.databricks.v1+cell": {
     "cellMetadata": {
      "byteLimit": 2048000,
      "rowLimit": 10000
     },
     "inputWidgets": {},
     "nuid": "13899ff7-4564-4bfc-b2dc-7e2aae9fa157",
     "showTitle": false,
     "title": ""
    }
   },
   "outputs": [],
   "source": [
    "import pandas as pd\n",
    "df1 = pd.read_csv('/dbfs/FileStore/tables/customer_data.csv')"
   ]
  },
  {
   "cell_type": "code",
   "execution_count": 0,
   "metadata": {
    "application/vnd.databricks.v1+cell": {
     "cellMetadata": {
      "byteLimit": 2048000,
      "rowLimit": 10000
     },
     "inputWidgets": {},
     "nuid": "777a38b7-f072-42c2-9e43-2b6c7099e756",
     "showTitle": false,
     "title": ""
    }
   },
   "outputs": [
    {
     "output_type": "display_data",
     "data": {
      "text/html": [
       "<div>\n<style scoped>\n    .dataframe tbody tr th:only-of-type {\n        vertical-align: middle;\n    }\n\n    .dataframe tbody tr th {\n        vertical-align: top;\n    }\n\n    .dataframe thead th {\n        text-align: right;\n    }\n</style>\n<table border=\"1\" class=\"dataframe\">\n  <thead>\n    <tr style=\"text-align: right;\">\n      <th></th>\n      <th>Customer</th>\n      <th>State</th>\n      <th>Customer Lifetime Value</th>\n      <th>Response</th>\n      <th>Coverage</th>\n      <th>Education</th>\n      <th>Effective To Date</th>\n      <th>EmploymentStatus</th>\n      <th>Gender</th>\n      <th>Income</th>\n      <th>...</th>\n      <th>Months Since Policy Inception</th>\n      <th>Number of Open Complaints</th>\n      <th>Number of Policies</th>\n      <th>Policy Type</th>\n      <th>Policy</th>\n      <th>Renew Offer Type</th>\n      <th>Sales Channel</th>\n      <th>Total Claim Amount</th>\n      <th>Vehicle Class</th>\n      <th>Vehicle Size</th>\n    </tr>\n  </thead>\n  <tbody>\n    <tr>\n      <th>0</th>\n      <td>BU79786</td>\n      <td>Washington</td>\n      <td>2763.519279</td>\n      <td>No</td>\n      <td>Basic</td>\n      <td>Bachelor</td>\n      <td>2/24/11</td>\n      <td>Employed</td>\n      <td>F</td>\n      <td>56274</td>\n      <td>...</td>\n      <td>5</td>\n      <td>0</td>\n      <td>1</td>\n      <td>Corporate Auto</td>\n      <td>Corporate L3</td>\n      <td>Offer1</td>\n      <td>Agent</td>\n      <td>384.811147</td>\n      <td>Two-Door Car</td>\n      <td>Medsize</td>\n    </tr>\n    <tr>\n      <th>1</th>\n      <td>QZ44356</td>\n      <td>Arizona</td>\n      <td>6979.535903</td>\n      <td>No</td>\n      <td>Extended</td>\n      <td>Bachelor</td>\n      <td>1/31/11</td>\n      <td>Unemployed</td>\n      <td>F</td>\n      <td>0</td>\n      <td>...</td>\n      <td>42</td>\n      <td>0</td>\n      <td>8</td>\n      <td>Personal Auto</td>\n      <td>Personal L3</td>\n      <td>Offer3</td>\n      <td>Agent</td>\n      <td>1131.464935</td>\n      <td>Four-Door Car</td>\n      <td>Medsize</td>\n    </tr>\n  </tbody>\n</table>\n<p>2 rows × 24 columns</p>\n</div>"
      ]
     },
     "metadata": {
      "application/vnd.databricks.v1+output": {
       "addedWidgets": {},
       "arguments": {},
       "data": "<div>\n<style scoped>\n    .dataframe tbody tr th:only-of-type {\n        vertical-align: middle;\n    }\n\n    .dataframe tbody tr th {\n        vertical-align: top;\n    }\n\n    .dataframe thead th {\n        text-align: right;\n    }\n</style>\n<table border=\"1\" class=\"dataframe\">\n  <thead>\n    <tr style=\"text-align: right;\">\n      <th></th>\n      <th>Customer</th>\n      <th>State</th>\n      <th>Customer Lifetime Value</th>\n      <th>Response</th>\n      <th>Coverage</th>\n      <th>Education</th>\n      <th>Effective To Date</th>\n      <th>EmploymentStatus</th>\n      <th>Gender</th>\n      <th>Income</th>\n      <th>...</th>\n      <th>Months Since Policy Inception</th>\n      <th>Number of Open Complaints</th>\n      <th>Number of Policies</th>\n      <th>Policy Type</th>\n      <th>Policy</th>\n      <th>Renew Offer Type</th>\n      <th>Sales Channel</th>\n      <th>Total Claim Amount</th>\n      <th>Vehicle Class</th>\n      <th>Vehicle Size</th>\n    </tr>\n  </thead>\n  <tbody>\n    <tr>\n      <th>0</th>\n      <td>BU79786</td>\n      <td>Washington</td>\n      <td>2763.519279</td>\n      <td>No</td>\n      <td>Basic</td>\n      <td>Bachelor</td>\n      <td>2/24/11</td>\n      <td>Employed</td>\n      <td>F</td>\n      <td>56274</td>\n      <td>...</td>\n      <td>5</td>\n      <td>0</td>\n      <td>1</td>\n      <td>Corporate Auto</td>\n      <td>Corporate L3</td>\n      <td>Offer1</td>\n      <td>Agent</td>\n      <td>384.811147</td>\n      <td>Two-Door Car</td>\n      <td>Medsize</td>\n    </tr>\n    <tr>\n      <th>1</th>\n      <td>QZ44356</td>\n      <td>Arizona</td>\n      <td>6979.535903</td>\n      <td>No</td>\n      <td>Extended</td>\n      <td>Bachelor</td>\n      <td>1/31/11</td>\n      <td>Unemployed</td>\n      <td>F</td>\n      <td>0</td>\n      <td>...</td>\n      <td>42</td>\n      <td>0</td>\n      <td>8</td>\n      <td>Personal Auto</td>\n      <td>Personal L3</td>\n      <td>Offer3</td>\n      <td>Agent</td>\n      <td>1131.464935</td>\n      <td>Four-Door Car</td>\n      <td>Medsize</td>\n    </tr>\n  </tbody>\n</table>\n<p>2 rows × 24 columns</p>\n</div>",
       "datasetInfos": [],
       "metadata": {},
       "removedWidgets": [],
       "textData": null,
       "type": "htmlSandbox"
      }
     },
     "output_type": "display_data"
    }
   ],
   "source": [
    "df1.head(2)"
   ]
  },
  {
   "cell_type": "code",
   "execution_count": 0,
   "metadata": {
    "application/vnd.databricks.v1+cell": {
     "cellMetadata": {
      "byteLimit": 2048000,
      "rowLimit": 10000
     },
     "inputWidgets": {},
     "nuid": "9ee9889b-6645-47a0-a0b0-e73d54a9e398",
     "showTitle": false,
     "title": ""
    }
   },
   "outputs": [
    {
     "output_type": "stream",
     "name": "stdout",
     "output_type": "stream",
     "text": [
      "Out[29]: pandas.core.frame.DataFrame"
     ]
    }
   ],
   "source": [
    "type(df1)\n",
    "# note that this is a pandas dataframe and not a spark dataframe "
   ]
  },
  {
   "cell_type": "code",
   "execution_count": 0,
   "metadata": {
    "application/vnd.databricks.v1+cell": {
     "cellMetadata": {
      "byteLimit": 2048000,
      "rowLimit": 10000
     },
     "inputWidgets": {},
     "nuid": "3b275cf0-ade0-4fba-85c4-db8f5983f08e",
     "showTitle": false,
     "title": ""
    }
   },
   "outputs": [
    {
     "output_type": "display_data",
     "data": {
      "text/html": [
       "<div>\n<style scoped>\n    .dataframe tbody tr th:only-of-type {\n        vertical-align: middle;\n    }\n\n    .dataframe tbody tr th {\n        vertical-align: top;\n    }\n\n    .dataframe thead th {\n        text-align: right;\n    }\n</style>\n<table border=\"1\" class=\"dataframe\">\n  <thead>\n    <tr style=\"text-align: right;\">\n      <th></th>\n      <th>UTC</th>\n      <th>Temperature[C]</th>\n      <th>Humidity[%]</th>\n      <th>TVOC[ppb]</th>\n      <th>eCO2[ppm]</th>\n      <th>Raw H2</th>\n      <th>Raw Ethanol</th>\n      <th>Pressure[hPa]</th>\n      <th>PM1.0</th>\n      <th>PM2.5</th>\n      <th>NC0.5</th>\n      <th>NC1.0</th>\n      <th>NC2.5</th>\n      <th>CNT</th>\n      <th>Fire Alarm</th>\n    </tr>\n  </thead>\n  <tbody>\n    <tr>\n      <th>0</th>\n      <td>1654733331</td>\n      <td>20.000</td>\n      <td>57.36</td>\n      <td>0</td>\n      <td>400</td>\n      <td>12306</td>\n      <td>18520</td>\n      <td>939.735</td>\n      <td>0.0</td>\n      <td>0.0</td>\n      <td>0.0</td>\n      <td>0.0</td>\n      <td>0.0</td>\n      <td>0</td>\n      <td>0</td>\n    </tr>\n    <tr>\n      <th>1</th>\n      <td>1654733332</td>\n      <td>20.015</td>\n      <td>56.67</td>\n      <td>0</td>\n      <td>400</td>\n      <td>12345</td>\n      <td>18651</td>\n      <td>939.744</td>\n      <td>0.0</td>\n      <td>0.0</td>\n      <td>0.0</td>\n      <td>0.0</td>\n      <td>0.0</td>\n      <td>1</td>\n      <td>0</td>\n    </tr>\n    <tr>\n      <th>2</th>\n      <td>1654733333</td>\n      <td>20.029</td>\n      <td>55.96</td>\n      <td>0</td>\n      <td>400</td>\n      <td>12374</td>\n      <td>18764</td>\n      <td>939.738</td>\n      <td>0.0</td>\n      <td>0.0</td>\n      <td>0.0</td>\n      <td>0.0</td>\n      <td>0.0</td>\n      <td>2</td>\n      <td>0</td>\n    </tr>\n    <tr>\n      <th>3</th>\n      <td>1654733334</td>\n      <td>20.044</td>\n      <td>55.28</td>\n      <td>0</td>\n      <td>400</td>\n      <td>12390</td>\n      <td>18849</td>\n      <td>939.736</td>\n      <td>0.0</td>\n      <td>0.0</td>\n      <td>0.0</td>\n      <td>0.0</td>\n      <td>0.0</td>\n      <td>3</td>\n      <td>0</td>\n    </tr>\n    <tr>\n      <th>4</th>\n      <td>1654733335</td>\n      <td>20.059</td>\n      <td>54.69</td>\n      <td>0</td>\n      <td>400</td>\n      <td>12403</td>\n      <td>18921</td>\n      <td>939.744</td>\n      <td>0.0</td>\n      <td>0.0</td>\n      <td>0.0</td>\n      <td>0.0</td>\n      <td>0.0</td>\n      <td>4</td>\n      <td>0</td>\n    </tr>\n  </tbody>\n</table>\n</div>"
      ]
     },
     "metadata": {
      "application/vnd.databricks.v1+output": {
       "addedWidgets": {},
       "arguments": {},
       "data": "<div>\n<style scoped>\n    .dataframe tbody tr th:only-of-type {\n        vertical-align: middle;\n    }\n\n    .dataframe tbody tr th {\n        vertical-align: top;\n    }\n\n    .dataframe thead th {\n        text-align: right;\n    }\n</style>\n<table border=\"1\" class=\"dataframe\">\n  <thead>\n    <tr style=\"text-align: right;\">\n      <th></th>\n      <th>UTC</th>\n      <th>Temperature[C]</th>\n      <th>Humidity[%]</th>\n      <th>TVOC[ppb]</th>\n      <th>eCO2[ppm]</th>\n      <th>Raw H2</th>\n      <th>Raw Ethanol</th>\n      <th>Pressure[hPa]</th>\n      <th>PM1.0</th>\n      <th>PM2.5</th>\n      <th>NC0.5</th>\n      <th>NC1.0</th>\n      <th>NC2.5</th>\n      <th>CNT</th>\n      <th>Fire Alarm</th>\n    </tr>\n  </thead>\n  <tbody>\n    <tr>\n      <th>0</th>\n      <td>1654733331</td>\n      <td>20.000</td>\n      <td>57.36</td>\n      <td>0</td>\n      <td>400</td>\n      <td>12306</td>\n      <td>18520</td>\n      <td>939.735</td>\n      <td>0.0</td>\n      <td>0.0</td>\n      <td>0.0</td>\n      <td>0.0</td>\n      <td>0.0</td>\n      <td>0</td>\n      <td>0</td>\n    </tr>\n    <tr>\n      <th>1</th>\n      <td>1654733332</td>\n      <td>20.015</td>\n      <td>56.67</td>\n      <td>0</td>\n      <td>400</td>\n      <td>12345</td>\n      <td>18651</td>\n      <td>939.744</td>\n      <td>0.0</td>\n      <td>0.0</td>\n      <td>0.0</td>\n      <td>0.0</td>\n      <td>0.0</td>\n      <td>1</td>\n      <td>0</td>\n    </tr>\n    <tr>\n      <th>2</th>\n      <td>1654733333</td>\n      <td>20.029</td>\n      <td>55.96</td>\n      <td>0</td>\n      <td>400</td>\n      <td>12374</td>\n      <td>18764</td>\n      <td>939.738</td>\n      <td>0.0</td>\n      <td>0.0</td>\n      <td>0.0</td>\n      <td>0.0</td>\n      <td>0.0</td>\n      <td>2</td>\n      <td>0</td>\n    </tr>\n    <tr>\n      <th>3</th>\n      <td>1654733334</td>\n      <td>20.044</td>\n      <td>55.28</td>\n      <td>0</td>\n      <td>400</td>\n      <td>12390</td>\n      <td>18849</td>\n      <td>939.736</td>\n      <td>0.0</td>\n      <td>0.0</td>\n      <td>0.0</td>\n      <td>0.0</td>\n      <td>0.0</td>\n      <td>3</td>\n      <td>0</td>\n    </tr>\n    <tr>\n      <th>4</th>\n      <td>1654733335</td>\n      <td>20.059</td>\n      <td>54.69</td>\n      <td>0</td>\n      <td>400</td>\n      <td>12403</td>\n      <td>18921</td>\n      <td>939.744</td>\n      <td>0.0</td>\n      <td>0.0</td>\n      <td>0.0</td>\n      <td>0.0</td>\n      <td>0.0</td>\n      <td>4</td>\n      <td>0</td>\n    </tr>\n  </tbody>\n</table>\n</div>",
       "datasetInfos": [],
       "metadata": {},
       "removedWidgets": [],
       "textData": null,
       "type": "htmlSandbox"
      }
     },
     "output_type": "display_data"
    }
   ],
   "source": [
    "df2 = pd.read_csv('/dbfs/FileStore/tables/smoke_detection_iot.csv')\n",
    "df2 = df2.drop(['Unnamed: 0'], axis =1)\n",
    "df2.head()"
   ]
  },
  {
   "cell_type": "code",
   "execution_count": 0,
   "metadata": {
    "application/vnd.databricks.v1+cell": {
     "cellMetadata": {
      "byteLimit": 2048000,
      "rowLimit": 10000
     },
     "inputWidgets": {},
     "nuid": "fdeaf166-4516-4532-9a3e-68e34ff0e464",
     "showTitle": false,
     "title": ""
    }
   },
   "outputs": [],
   "source": [
    "# df2.to_csv('smoke_detection_clean_export.csv') \n",
    "# need to check where the csv is exported"
   ]
  },
  {
   "cell_type": "code",
   "execution_count": 0,
   "metadata": {
    "application/vnd.databricks.v1+cell": {
     "cellMetadata": {},
     "inputWidgets": {},
     "nuid": "f2ef98b6-dc99-419a-b5ce-4c085adb0533",
     "showTitle": false,
     "title": ""
    }
   },
   "outputs": [],
   "source": []
  },
  {
   "cell_type": "code",
   "execution_count": 0,
   "metadata": {
    "application/vnd.databricks.v1+cell": {
     "cellMetadata": {},
     "inputWidgets": {},
     "nuid": "d19b8c5e-6e6e-484e-bfd3-3079bde60e88",
     "showTitle": false,
     "title": ""
    }
   },
   "outputs": [],
   "source": []
  },
  {
   "cell_type": "code",
   "execution_count": 0,
   "metadata": {
    "application/vnd.databricks.v1+cell": {
     "cellMetadata": {
      "byteLimit": 2048000,
      "rowLimit": 10000
     },
     "inputWidgets": {},
     "nuid": "b0e951ec-bd65-4f1b-97c8-a313fb9b2cc6",
     "showTitle": false,
     "title": ""
    }
   },
   "outputs": [],
   "source": [
    "# import csv as a dataframe using Spark\n",
    "import pyspark\n",
    "from pyspark.sql import SparkSession\n",
    "\n",
    "# create a spark session\n",
    "spark = SparkSession.builder.appName('PySpark Read CSV').getOrCreate()"
   ]
  },
  {
   "cell_type": "code",
   "execution_count": 0,
   "metadata": {
    "application/vnd.databricks.v1+cell": {
     "cellMetadata": {
      "byteLimit": 2048000,
      "rowLimit": 10000
     },
     "inputWidgets": {},
     "nuid": "1122d6ab-3992-4659-8dec-737d353f7da1",
     "showTitle": false,
     "title": ""
    }
   },
   "outputs": [
    {
     "output_type": "stream",
     "name": "stdout",
     "output_type": "stream",
     "text": [
      "root\n |-- Customer: string (nullable = true)\n |-- State: string (nullable = true)\n |-- Customer Lifetime Value: string (nullable = true)\n |-- Response: string (nullable = true)\n |-- Coverage: string (nullable = true)\n |-- Education: string (nullable = true)\n |-- Effective To Date: string (nullable = true)\n |-- EmploymentStatus: string (nullable = true)\n |-- Gender: string (nullable = true)\n |-- Income: string (nullable = true)\n |-- Location Code: string (nullable = true)\n |-- Marital Status: string (nullable = true)\n |-- Monthly Premium Auto: string (nullable = true)\n |-- Months Since Last Claim: string (nullable = true)\n |-- Months Since Policy Inception: string (nullable = true)\n |-- Number of Open Complaints: string (nullable = true)\n |-- Number of Policies: string (nullable = true)\n |-- Policy Type: string (nullable = true)\n |-- Policy: string (nullable = true)\n |-- Renew Offer Type: string (nullable = true)\n |-- Sales Channel: string (nullable = true)\n |-- Total Claim Amount: string (nullable = true)\n |-- Vehicle Class: string (nullable = true)\n |-- Vehicle Size: string (nullable = true)\n\n"
     ]
    }
   ],
   "source": [
    "# Reading csv file\n",
    "dataframe = spark.read.csv(\"/FileStore/tables/customer_data.csv\", header=True)\n",
    "dataframe.printSchema()"
   ]
  },
  {
   "cell_type": "code",
   "execution_count": 0,
   "metadata": {
    "application/vnd.databricks.v1+cell": {
     "cellMetadata": {},
     "inputWidgets": {},
     "nuid": "def8ef5b-8abd-46c1-8fa6-ad226f927b59",
     "showTitle": false,
     "title": ""
    }
   },
   "outputs": [],
   "source": []
  },
  {
   "cell_type": "code",
   "execution_count": 0,
   "metadata": {
    "application/vnd.databricks.v1+cell": {
     "cellMetadata": {
      "byteLimit": 2048000,
      "rowLimit": 10000
     },
     "inputWidgets": {},
     "nuid": "7af556fa-c4ae-4e10-bed7-de32ed85490b",
     "showTitle": false,
     "title": ""
    }
   },
   "outputs": [],
   "source": [
    "# Writing pyspark dataframe to csv file\n",
    "dataframe.write.option(\"header\",True) \\\n",
    " .csv(\"/FileStore/tables/customer_data_clean.csv\")"
   ]
  },
  {
   "cell_type": "code",
   "execution_count": 0,
   "metadata": {
    "application/vnd.databricks.v1+cell": {
     "cellMetadata": {},
     "inputWidgets": {},
     "nuid": "98105c3b-113e-4c6c-8d9b-e756a56bd0a7",
     "showTitle": false,
     "title": ""
    }
   },
   "outputs": [],
   "source": []
  },
  {
   "cell_type": "code",
   "execution_count": 0,
   "metadata": {
    "application/vnd.databricks.v1+cell": {
     "cellMetadata": {},
     "inputWidgets": {},
     "nuid": "dff295cd-2536-4fa4-a8fc-31d7e2e7d035",
     "showTitle": false,
     "title": ""
    }
   },
   "outputs": [],
   "source": [
    "# Register the DataFrame as a temporary view"
   ]
  },
  {
   "cell_type": "code",
   "execution_count": 0,
   "metadata": {
    "application/vnd.databricks.v1+cell": {
     "cellMetadata": {
      "byteLimit": 2048000,
      "rowLimit": 10000
     },
     "inputWidgets": {},
     "nuid": "303d551a-767e-495f-94a7-5708cf1a25b5",
     "showTitle": false,
     "title": ""
    }
   },
   "outputs": [
    {
     "output_type": "display_data",
     "data": {
      "text/plain": [
       "\u001B[0;31m---------------------------------------------------------------------------\u001B[0m\n\u001B[0;31mAttributeError\u001B[0m                            Traceback (most recent call last)\n\u001B[0;32m<command-3313742380952454>\u001B[0m in \u001B[0;36m<cell line: 3>\u001B[0;34m()\u001B[0m\n\u001B[1;32m      1\u001B[0m \u001B[0mdf\u001B[0m \u001B[0;34m=\u001B[0m \u001B[0mpd\u001B[0m\u001B[0;34m.\u001B[0m\u001B[0mread_csv\u001B[0m\u001B[0;34m(\u001B[0m\u001B[0;34m'/dbfs/FileStore/tables/customer_data.csv'\u001B[0m\u001B[0;34m)\u001B[0m\u001B[0;34m\u001B[0m\u001B[0;34m\u001B[0m\u001B[0m\n\u001B[1;32m      2\u001B[0m \u001B[0;31m# Register the DataFrame as a temporary view\u001B[0m\u001B[0;34m\u001B[0m\u001B[0;34m\u001B[0m\u001B[0;34m\u001B[0m\u001B[0m\n\u001B[0;32m----> 3\u001B[0;31m \u001B[0mdf\u001B[0m\u001B[0;34m.\u001B[0m\u001B[0mcreateOrReplaceTempView\u001B[0m\u001B[0;34m(\u001B[0m\u001B[0;34m\"my_table_\"\u001B[0m\u001B[0;34m)\u001B[0m\u001B[0;34m\u001B[0m\u001B[0;34m\u001B[0m\u001B[0m\n\u001B[0m\u001B[1;32m      4\u001B[0m \u001B[0;34m\u001B[0m\u001B[0m\n\u001B[1;32m      5\u001B[0m \u001B[0;31m# Run a SQL query on the DataFrame using Spark SQL\u001B[0m\u001B[0;34m\u001B[0m\u001B[0;34m\u001B[0m\u001B[0;34m\u001B[0m\u001B[0m\n\n\u001B[0;32m/databricks/python/lib/python3.9/site-packages/pandas/core/generic.py\u001B[0m in \u001B[0;36m__getattr__\u001B[0;34m(self, name)\u001B[0m\n\u001B[1;32m   5485\u001B[0m         ):\n\u001B[1;32m   5486\u001B[0m             \u001B[0;32mreturn\u001B[0m \u001B[0mself\u001B[0m\u001B[0;34m[\u001B[0m\u001B[0mname\u001B[0m\u001B[0;34m]\u001B[0m\u001B[0;34m\u001B[0m\u001B[0;34m\u001B[0m\u001B[0m\n\u001B[0;32m-> 5487\u001B[0;31m         \u001B[0;32mreturn\u001B[0m \u001B[0mobject\u001B[0m\u001B[0;34m.\u001B[0m\u001B[0m__getattribute__\u001B[0m\u001B[0;34m(\u001B[0m\u001B[0mself\u001B[0m\u001B[0;34m,\u001B[0m \u001B[0mname\u001B[0m\u001B[0;34m)\u001B[0m\u001B[0;34m\u001B[0m\u001B[0;34m\u001B[0m\u001B[0m\n\u001B[0m\u001B[1;32m   5488\u001B[0m \u001B[0;34m\u001B[0m\u001B[0m\n\u001B[1;32m   5489\u001B[0m     \u001B[0;32mdef\u001B[0m \u001B[0m__setattr__\u001B[0m\u001B[0;34m(\u001B[0m\u001B[0mself\u001B[0m\u001B[0;34m,\u001B[0m \u001B[0mname\u001B[0m\u001B[0;34m:\u001B[0m \u001B[0mstr\u001B[0m\u001B[0;34m,\u001B[0m \u001B[0mvalue\u001B[0m\u001B[0;34m)\u001B[0m \u001B[0;34m->\u001B[0m \u001B[0;32mNone\u001B[0m\u001B[0;34m:\u001B[0m\u001B[0;34m\u001B[0m\u001B[0;34m\u001B[0m\u001B[0m\n\n\u001B[0;31mAttributeError\u001B[0m: 'DataFrame' object has no attribute 'createOrReplaceTempView'"
      ]
     },
     "metadata": {
      "application/vnd.databricks.v1+output": {
       "arguments": {},
       "data": "\u001B[0;31m---------------------------------------------------------------------------\u001B[0m\n\u001B[0;31mAttributeError\u001B[0m                            Traceback (most recent call last)\n\u001B[0;32m<command-3313742380952454>\u001B[0m in \u001B[0;36m<cell line: 3>\u001B[0;34m()\u001B[0m\n\u001B[1;32m      1\u001B[0m \u001B[0mdf\u001B[0m \u001B[0;34m=\u001B[0m \u001B[0mpd\u001B[0m\u001B[0;34m.\u001B[0m\u001B[0mread_csv\u001B[0m\u001B[0;34m(\u001B[0m\u001B[0;34m'/dbfs/FileStore/tables/customer_data.csv'\u001B[0m\u001B[0;34m)\u001B[0m\u001B[0;34m\u001B[0m\u001B[0;34m\u001B[0m\u001B[0m\n\u001B[1;32m      2\u001B[0m \u001B[0;31m# Register the DataFrame as a temporary view\u001B[0m\u001B[0;34m\u001B[0m\u001B[0;34m\u001B[0m\u001B[0;34m\u001B[0m\u001B[0m\n\u001B[0;32m----> 3\u001B[0;31m \u001B[0mdf\u001B[0m\u001B[0;34m.\u001B[0m\u001B[0mcreateOrReplaceTempView\u001B[0m\u001B[0;34m(\u001B[0m\u001B[0;34m\"my_table_\"\u001B[0m\u001B[0;34m)\u001B[0m\u001B[0;34m\u001B[0m\u001B[0;34m\u001B[0m\u001B[0m\n\u001B[0m\u001B[1;32m      4\u001B[0m \u001B[0;34m\u001B[0m\u001B[0m\n\u001B[1;32m      5\u001B[0m \u001B[0;31m# Run a SQL query on the DataFrame using Spark SQL\u001B[0m\u001B[0;34m\u001B[0m\u001B[0;34m\u001B[0m\u001B[0;34m\u001B[0m\u001B[0m\n\n\u001B[0;32m/databricks/python/lib/python3.9/site-packages/pandas/core/generic.py\u001B[0m in \u001B[0;36m__getattr__\u001B[0;34m(self, name)\u001B[0m\n\u001B[1;32m   5485\u001B[0m         ):\n\u001B[1;32m   5486\u001B[0m             \u001B[0;32mreturn\u001B[0m \u001B[0mself\u001B[0m\u001B[0;34m[\u001B[0m\u001B[0mname\u001B[0m\u001B[0;34m]\u001B[0m\u001B[0;34m\u001B[0m\u001B[0;34m\u001B[0m\u001B[0m\n\u001B[0;32m-> 5487\u001B[0;31m         \u001B[0;32mreturn\u001B[0m \u001B[0mobject\u001B[0m\u001B[0;34m.\u001B[0m\u001B[0m__getattribute__\u001B[0m\u001B[0;34m(\u001B[0m\u001B[0mself\u001B[0m\u001B[0;34m,\u001B[0m \u001B[0mname\u001B[0m\u001B[0;34m)\u001B[0m\u001B[0;34m\u001B[0m\u001B[0;34m\u001B[0m\u001B[0m\n\u001B[0m\u001B[1;32m   5488\u001B[0m \u001B[0;34m\u001B[0m\u001B[0m\n\u001B[1;32m   5489\u001B[0m     \u001B[0;32mdef\u001B[0m \u001B[0m__setattr__\u001B[0m\u001B[0;34m(\u001B[0m\u001B[0mself\u001B[0m\u001B[0;34m,\u001B[0m \u001B[0mname\u001B[0m\u001B[0;34m:\u001B[0m \u001B[0mstr\u001B[0m\u001B[0;34m,\u001B[0m \u001B[0mvalue\u001B[0m\u001B[0;34m)\u001B[0m \u001B[0;34m->\u001B[0m \u001B[0;32mNone\u001B[0m\u001B[0;34m:\u001B[0m\u001B[0;34m\u001B[0m\u001B[0;34m\u001B[0m\u001B[0m\n\n\u001B[0;31mAttributeError\u001B[0m: 'DataFrame' object has no attribute 'createOrReplaceTempView'",
       "errorSummary": "<span class='ansi-red-fg'>AttributeError</span>: 'DataFrame' object has no attribute 'createOrReplaceTempView'",
       "errorTraceType": "ansi",
       "metadata": {},
       "type": "ipynbError"
      }
     },
     "output_type": "display_data"
    }
   ],
   "source": [
    "df = pd.read_csv('/dbfs/FileStore/tables/customer_data.csv')\n",
    "# Register the DataFrame as a temporary view\n",
    "df.createOrReplaceTempView(\"my_table_\")\n",
    "\n",
    "# Note that this would fail because here df is a pandas dataframe and not a spark dataFrame "
   ]
  },
  {
   "cell_type": "code",
   "execution_count": 0,
   "metadata": {
    "application/vnd.databricks.v1+cell": {
     "cellMetadata": {
      "byteLimit": 2048000,
      "rowLimit": 10000
     },
     "inputWidgets": {},
     "nuid": "c9d2380a-9bc8-4573-82c6-f57d3fd708c7",
     "showTitle": false,
     "title": ""
    }
   },
   "outputs": [
    {
     "output_type": "stream",
     "name": "stdout",
     "output_type": "stream",
     "text": [
      "+--------+----------+-----------------------+--------+--------+---------+-----------------+----------------+------+------+-------------+--------------+--------------------+-----------------------+-----------------------------+-------------------------+------------------+--------------+------------+----------------+-------------+------------------+-------------+------------+\n|Customer|     State|Customer Lifetime Value|Response|Coverage|Education|Effective To Date|EmploymentStatus|Gender|Income|Location Code|Marital Status|Monthly Premium Auto|Months Since Last Claim|Months Since Policy Inception|Number of Open Complaints|Number of Policies|   Policy Type|      Policy|Renew Offer Type|Sales Channel|Total Claim Amount|Vehicle Class|Vehicle Size|\n+--------+----------+-----------------------+--------+--------+---------+-----------------+----------------+------+------+-------------+--------------+--------------------+-----------------------+-----------------------------+-------------------------+------------------+--------------+------------+----------------+-------------+------------------+-------------+------------+\n| BU79786|Washington|            2763.519279|      No|   Basic| Bachelor|          2/24/11|        Employed|     F| 56274|     Suburban|       Married|                  69|                     32|                            5|                        0|                 1|Corporate Auto|Corporate L3|          Offer1|        Agent|        384.811147| Two-Door Car|     Medsize|\n| QZ44356|   Arizona|            6979.535903|      No|Extended| Bachelor|          1/31/11|      Unemployed|     F|     0|     Suburban|        Single|                  94|                     13|                           42|                        0|                 8| Personal Auto| Personal L3|          Offer3|        Agent|       1131.464935|Four-Door Car|     Medsize|\n| AI49188|    Nevada|            12887.43165|      No| Premium| Bachelor|          2/19/11|        Employed|     F| 48767|     Suburban|       Married|                 108|                     18|                           38|                        0|                 2| Personal Auto| Personal L3|          Offer1|        Agent|        566.472247| Two-Door Car|     Medsize|\n| WW63253|California|            7645.861827|      No|   Basic| Bachelor|          1/20/11|      Unemployed|     M|     0|     Suburban|       Married|                 106|                     18|                           65|                        0|                 7|Corporate Auto|Corporate L2|          Offer1|  Call Center|        529.881344|          SUV|     Medsize|\n| HB64268|Washington|            2813.692575|      No|   Basic| Bachelor|           2/3/11|        Employed|     M| 43836|        Rural|        Single|                  73|                     12|                           44|                        0|                 1| Personal Auto| Personal L1|          Offer1|        Agent|        138.130879|Four-Door Car|     Medsize|\n| OC83172|    Oregon|              8256.2978|     Yes|   Basic| Bachelor|          1/25/11|        Employed|     F| 62902|        Rural|       Married|                  69|                     14|                           94|                        0|                 2| Personal Auto| Personal L3|          Offer2|          Web|        159.383042| Two-Door Car|     Medsize|\n| XZ87318|    Oregon|            5380.898636|     Yes|   Basic|  College|          2/24/11|        Employed|     F| 55350|     Suburban|       Married|                  67|                      0|                           13|                        0|                 9|Corporate Auto|Corporate L3|          Offer1|        Agent|             321.6|Four-Door Car|     Medsize|\n| CF85061|   Arizona|            7216.100311|      No| Premium|   Master|          1/18/11|      Unemployed|     M|     0|        Urban|        Single|                 101|                      0|                           68|                        0|                 4|Corporate Auto|Corporate L3|          Offer1|        Agent|         363.02968|Four-Door Car|     Medsize|\n| DY87989|    Oregon|            24127.50402|     Yes|   Basic| Bachelor|          1/26/11|   Medical Leave|     M| 14072|     Suburban|      Divorced|                  71|                     13|                            3|                        0|                 2|Corporate Auto|Corporate L3|          Offer1|        Agent|             511.2|Four-Door Car|     Medsize|\n| BQ94931|    Oregon|            7388.178085|      No|Extended|  College|          2/17/11|        Employed|     F| 28812|        Urban|       Married|                  93|                     17|                            7|                        0|                 8|  Special Auto|  Special L2|          Offer2|       Branch|        425.527834|Four-Door Car|     Medsize|\n+--------+----------+-----------------------+--------+--------+---------+-----------------+----------------+------+------+-------------+--------------+--------------------+-----------------------+-----------------------------+-------------------------+------------------+--------------+------------+----------------+-------------+------------------+-------------+------------+\n\n"
     ]
    }
   ],
   "source": [
    "# Load data into a DataFrame\n",
    "df = spark.read.csv(\"/FileStore/tables/customer_data.csv\", header=True)\n",
    "\n",
    "# Register the DataFrame as a temporary view\n",
    "df.createOrReplaceTempView(\"my_table\")\n",
    "\n",
    "# Run a SQL query on the DataFrame using Spark SQL\n",
    "results = spark.sql(\"SELECT * FROM my_table limit 10\")\n",
    "\n",
    "# Display the results\n",
    "results.show()\n"
   ]
  },
  {
   "cell_type": "code",
   "execution_count": 0,
   "metadata": {
    "application/vnd.databricks.v1+cell": {
     "cellMetadata": {
      "byteLimit": 2048000,
      "rowLimit": 10000
     },
     "inputWidgets": {},
     "nuid": "b56ba774-dd1a-4712-9a98-b26e98c00e07",
     "showTitle": false,
     "title": ""
    }
   },
   "outputs": [
    {
     "output_type": "stream",
     "name": "stdout",
     "output_type": "stream",
     "text": [
      "Out[25]: pyspark.sql.dataframe.DataFrame"
     ]
    }
   ],
   "source": [
    "type(df)"
   ]
  },
  {
   "cell_type": "code",
   "execution_count": 0,
   "metadata": {
    "application/vnd.databricks.v1+cell": {
     "cellMetadata": {},
     "inputWidgets": {},
     "nuid": "a8660237-1713-43d2-8ba3-18a3db051198",
     "showTitle": false,
     "title": ""
    }
   },
   "outputs": [],
   "source": []
  },
  {
   "cell_type": "code",
   "execution_count": 0,
   "metadata": {
    "application/vnd.databricks.v1+cell": {
     "cellMetadata": {},
     "inputWidgets": {},
     "nuid": "4f3a220e-c80a-406a-b9f7-e697e6a63376",
     "showTitle": false,
     "title": ""
    }
   },
   "outputs": [],
   "source": []
  },
  {
   "cell_type": "code",
   "execution_count": 0,
   "metadata": {
    "application/vnd.databricks.v1+cell": {
     "cellMetadata": {},
     "inputWidgets": {},
     "nuid": "e7b75e95-416b-4c64-b590-9a20bb237454",
     "showTitle": false,
     "title": ""
    }
   },
   "outputs": [],
   "source": []
  },
  {
   "cell_type": "code",
   "execution_count": 0,
   "metadata": {
    "application/vnd.databricks.v1+cell": {
     "cellMetadata": {},
     "inputWidgets": {},
     "nuid": "cac75e5b-37f0-4239-b38d-56982b4ac1b2",
     "showTitle": false,
     "title": ""
    }
   },
   "outputs": [],
   "source": []
  },
  {
   "cell_type": "code",
   "execution_count": 0,
   "metadata": {
    "application/vnd.databricks.v1+cell": {
     "cellMetadata": {},
     "inputWidgets": {},
     "nuid": "f248aee7-b2e8-4647-b0d1-36843eb75b38",
     "showTitle": false,
     "title": ""
    }
   },
   "outputs": [],
   "source": []
  },
  {
   "cell_type": "code",
   "execution_count": 0,
   "metadata": {
    "application/vnd.databricks.v1+cell": {
     "cellMetadata": {},
     "inputWidgets": {},
     "nuid": "1d431657-c099-4883-b9f7-72b507702de8",
     "showTitle": false,
     "title": ""
    }
   },
   "outputs": [],
   "source": []
  },
  {
   "cell_type": "code",
   "execution_count": 0,
   "metadata": {
    "application/vnd.databricks.v1+cell": {
     "cellMetadata": {},
     "inputWidgets": {},
     "nuid": "4eb529f5-f0e1-40c5-ad69-be9d187f9c2a",
     "showTitle": false,
     "title": ""
    }
   },
   "outputs": [],
   "source": []
  },
  {
   "cell_type": "code",
   "execution_count": 0,
   "metadata": {
    "application/vnd.databricks.v1+cell": {
     "cellMetadata": {},
     "inputWidgets": {},
     "nuid": "34b0ba70-23d2-4fb2-93ac-8fdf497ac52f",
     "showTitle": false,
     "title": ""
    }
   },
   "outputs": [],
   "source": []
  },
  {
   "cell_type": "code",
   "execution_count": 0,
   "metadata": {
    "application/vnd.databricks.v1+cell": {
     "cellMetadata": {},
     "inputWidgets": {},
     "nuid": "8a93bb10-1693-44c1-a092-45555fa607eb",
     "showTitle": false,
     "title": ""
    }
   },
   "outputs": [],
   "source": []
  },
  {
   "cell_type": "code",
   "execution_count": 0,
   "metadata": {
    "application/vnd.databricks.v1+cell": {
     "cellMetadata": {},
     "inputWidgets": {},
     "nuid": "ea6fe7cf-fed1-4ea5-83fb-3832704e8aa1",
     "showTitle": false,
     "title": ""
    }
   },
   "outputs": [],
   "source": []
  },
  {
   "cell_type": "code",
   "execution_count": 0,
   "metadata": {
    "application/vnd.databricks.v1+cell": {
     "cellMetadata": {},
     "inputWidgets": {},
     "nuid": "0498c298-ba99-424c-93ad-4d23494c1813",
     "showTitle": false,
     "title": ""
    }
   },
   "outputs": [],
   "source": []
  },
  {
   "cell_type": "code",
   "execution_count": 0,
   "metadata": {
    "application/vnd.databricks.v1+cell": {
     "cellMetadata": {},
     "inputWidgets": {},
     "nuid": "fd428d6a-8c8a-47fe-8d45-3944c2978c94",
     "showTitle": false,
     "title": ""
    }
   },
   "outputs": [],
   "source": []
  },
  {
   "cell_type": "code",
   "execution_count": 0,
   "metadata": {
    "application/vnd.databricks.v1+cell": {
     "cellMetadata": {},
     "inputWidgets": {},
     "nuid": "6bcd0b34-bbce-4032-8b2c-23b2fb018f75",
     "showTitle": false,
     "title": ""
    }
   },
   "outputs": [],
   "source": []
  },
  {
   "cell_type": "code",
   "execution_count": 0,
   "metadata": {
    "application/vnd.databricks.v1+cell": {
     "cellMetadata": {},
     "inputWidgets": {},
     "nuid": "54adc0fa-e6e7-4cf5-87d9-93b4156a4fba",
     "showTitle": false,
     "title": ""
    }
   },
   "outputs": [],
   "source": []
  },
  {
   "cell_type": "code",
   "execution_count": 0,
   "metadata": {
    "application/vnd.databricks.v1+cell": {
     "cellMetadata": {},
     "inputWidgets": {},
     "nuid": "3646cf4c-39ac-4275-8e39-c8fa6f5942e7",
     "showTitle": false,
     "title": ""
    }
   },
   "outputs": [],
   "source": []
  },
  {
   "cell_type": "code",
   "execution_count": 0,
   "metadata": {
    "application/vnd.databricks.v1+cell": {
     "cellMetadata": {},
     "inputWidgets": {},
     "nuid": "12998fbd-4f66-45e7-b1e9-6efd66379f2f",
     "showTitle": false,
     "title": ""
    }
   },
   "outputs": [],
   "source": []
  },
  {
   "cell_type": "code",
   "execution_count": 0,
   "metadata": {
    "application/vnd.databricks.v1+cell": {
     "cellMetadata": {},
     "inputWidgets": {},
     "nuid": "4a4be8f3-212e-4a57-8ca6-3d9444485a4b",
     "showTitle": false,
     "title": ""
    }
   },
   "outputs": [],
   "source": []
  },
  {
   "cell_type": "code",
   "execution_count": 0,
   "metadata": {
    "application/vnd.databricks.v1+cell": {
     "cellMetadata": {},
     "inputWidgets": {},
     "nuid": "43402e9b-1df0-4c21-a13b-3e6a4c3ab9fa",
     "showTitle": false,
     "title": ""
    }
   },
   "outputs": [],
   "source": []
  },
  {
   "cell_type": "code",
   "execution_count": 0,
   "metadata": {
    "application/vnd.databricks.v1+cell": {
     "cellMetadata": {},
     "inputWidgets": {},
     "nuid": "d8489c81-e222-4007-bb31-9ddb76d271de",
     "showTitle": false,
     "title": ""
    }
   },
   "outputs": [],
   "source": []
  },
  {
   "cell_type": "code",
   "execution_count": 0,
   "metadata": {
    "application/vnd.databricks.v1+cell": {
     "cellMetadata": {},
     "inputWidgets": {},
     "nuid": "4449c5c7-481a-4a16-a887-514262541ba8",
     "showTitle": false,
     "title": ""
    }
   },
   "outputs": [],
   "source": []
  },
  {
   "cell_type": "code",
   "execution_count": 0,
   "metadata": {
    "application/vnd.databricks.v1+cell": {
     "cellMetadata": {},
     "inputWidgets": {},
     "nuid": "f12a2fcb-b333-42a8-b759-70d1f6c286b2",
     "showTitle": false,
     "title": ""
    }
   },
   "outputs": [],
   "source": []
  },
  {
   "cell_type": "code",
   "execution_count": 0,
   "metadata": {
    "application/vnd.databricks.v1+cell": {
     "cellMetadata": {},
     "inputWidgets": {},
     "nuid": "791c8bdb-f7ee-40b8-ba61-04e752fa0699",
     "showTitle": false,
     "title": ""
    }
   },
   "outputs": [],
   "source": []
  },
  {
   "cell_type": "code",
   "execution_count": 0,
   "metadata": {
    "application/vnd.databricks.v1+cell": {
     "cellMetadata": {},
     "inputWidgets": {},
     "nuid": "05f0e892-58cd-4291-bb40-52f29643f85d",
     "showTitle": false,
     "title": ""
    }
   },
   "outputs": [],
   "source": []
  },
  {
   "cell_type": "code",
   "execution_count": 0,
   "metadata": {
    "application/vnd.databricks.v1+cell": {
     "cellMetadata": {},
     "inputWidgets": {},
     "nuid": "1d0c600c-36f3-4dd0-ba67-8cd2e232ff8c",
     "showTitle": false,
     "title": ""
    }
   },
   "outputs": [],
   "source": []
  },
  {
   "cell_type": "code",
   "execution_count": 0,
   "metadata": {
    "application/vnd.databricks.v1+cell": {
     "cellMetadata": {},
     "inputWidgets": {},
     "nuid": "64c4246b-78f0-4a16-9bcd-a0b0bdce3f2f",
     "showTitle": false,
     "title": ""
    }
   },
   "outputs": [],
   "source": []
  },
  {
   "cell_type": "code",
   "execution_count": 0,
   "metadata": {
    "application/vnd.databricks.v1+cell": {
     "cellMetadata": {},
     "inputWidgets": {},
     "nuid": "cd1e8f08-df7d-4bc9-8f60-422ad9ea06be",
     "showTitle": false,
     "title": ""
    }
   },
   "outputs": [],
   "source": []
  },
  {
   "cell_type": "code",
   "execution_count": 0,
   "metadata": {
    "application/vnd.databricks.v1+cell": {
     "cellMetadata": {},
     "inputWidgets": {},
     "nuid": "e7918a19-2e1f-4f83-a19b-94edc00e200f",
     "showTitle": false,
     "title": ""
    }
   },
   "outputs": [],
   "source": []
  },
  {
   "cell_type": "code",
   "execution_count": 0,
   "metadata": {
    "application/vnd.databricks.v1+cell": {
     "cellMetadata": {},
     "inputWidgets": {},
     "nuid": "a8822ba5-0d32-4c21-89d2-c17e3ddac3bc",
     "showTitle": false,
     "title": ""
    }
   },
   "outputs": [],
   "source": []
  },
  {
   "cell_type": "code",
   "execution_count": 0,
   "metadata": {
    "application/vnd.databricks.v1+cell": {
     "cellMetadata": {},
     "inputWidgets": {},
     "nuid": "4ce42985-957d-4e2a-a9dd-b91b84ebe3aa",
     "showTitle": false,
     "title": ""
    }
   },
   "outputs": [],
   "source": []
  },
  {
   "cell_type": "code",
   "execution_count": 0,
   "metadata": {
    "application/vnd.databricks.v1+cell": {
     "cellMetadata": {},
     "inputWidgets": {},
     "nuid": "e4c83ef8-7469-47df-a32b-1113e42f8a2e",
     "showTitle": false,
     "title": ""
    }
   },
   "outputs": [],
   "source": []
  },
  {
   "cell_type": "code",
   "execution_count": 0,
   "metadata": {
    "application/vnd.databricks.v1+cell": {
     "cellMetadata": {},
     "inputWidgets": {},
     "nuid": "c8375e93-0eeb-4704-bf12-feb27d1507db",
     "showTitle": false,
     "title": ""
    }
   },
   "outputs": [],
   "source": []
  },
  {
   "cell_type": "code",
   "execution_count": 0,
   "metadata": {
    "application/vnd.databricks.v1+cell": {
     "cellMetadata": {},
     "inputWidgets": {},
     "nuid": "d018e837-e8a5-4c5e-b8c4-2635f169d813",
     "showTitle": false,
     "title": ""
    }
   },
   "outputs": [],
   "source": []
  }
 ],
 "metadata": {
  "application/vnd.databricks.v1+notebook": {
   "dashboards": [],
   "language": "python",
   "notebookMetadata": {
    "pythonIndentUnit": 4
   },
   "notebookName": "dataframe_imports",
   "notebookOrigID": 3313742380952444,
   "widgets": {}
  }
 },
 "nbformat": 4,
 "nbformat_minor": 0
}
